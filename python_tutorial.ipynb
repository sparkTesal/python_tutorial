{
 "cells": [
  {
   "cell_type": "markdown",
   "metadata": {
    "collapsed": false,
    "jupyter": {
     "outputs_hidden": false
    }
   },
   "source": [
    "# 1. 基本数据类型"
   ]
  },
  {
   "cell_type": "code",
   "execution_count": 5,
   "metadata": {
    "ExecuteTime": {
     "end_time": "2024-04-05T04:09:35.565531Z",
     "start_time": "2024-04-05T04:09:35.526808Z"
    },
    "collapsed": false,
    "jupyter": {
     "outputs_hidden": false
    }
   },
   "outputs": [
    {
     "name": "stdout",
     "output_type": "stream",
     "text": [
      "int_num: 42\n",
      "float_num: 3.14\n",
      "bool_val: True\n",
      "string_val: Hello, World!\n",
      "my_list: [1, 2, 3, 4, 5]\n",
      "my_tuple: (1, 2, 3)\n",
      "my_set: {1, 2, 3, 4, 5}\n",
      "my_dict: {'name': 'Alice', 'age': 25, 'city': 'New York'}\n"
     ]
    }
   ],
   "source": [
    "# 整数\n",
    "int_num = 42\n",
    "# 浮点数\n",
    "float_num = 3.14\n",
    "# 布尔值\n",
    "bool_val = True\n",
    "\n",
    "# 字符串\n",
    "string_val = \"Hello, World!\"\n",
    "\n",
    "# 列表\n",
    "my_list = [1, 2, 3, 4, 5]\n",
    "\n",
    "# 元组\n",
    "my_tuple = (1, 2, 3)\n",
    "\n",
    "# 集合\n",
    "my_set = {1, 2, 3, 4, 5}\n",
    "\n",
    "# 字典\n",
    "my_dict = {\"name\": \"Alice\", \"age\": 25, \"city\": \"New York\"}\n",
    "\n",
    "print(f\"int_num: {int_num}\")\n",
    "print(f\"float_num: {float_num}\")\n",
    "print(f\"bool_val: {bool_val}\")\n",
    "print(f\"string_val: {string_val}\")\n",
    "print(f\"my_list: {my_list}\")\n",
    "print(f\"my_tuple: {my_tuple}\")\n",
    "print(f\"my_set: {my_set}\")\n",
    "print(f\"my_dict: {my_dict}\")"
   ]
  },
  {
   "cell_type": "markdown",
   "metadata": {
    "collapsed": false,
    "jupyter": {
     "outputs_hidden": false
    }
   },
   "source": [
    "# 2. 控制流"
   ]
  },
  {
   "cell_type": "code",
   "execution_count": 6,
   "metadata": {
    "ExecuteTime": {
     "end_time": "2024-04-05T04:10:11.235986Z",
     "start_time": "2024-04-05T04:10:11.226380Z"
    },
    "collapsed": false,
    "jupyter": {
     "outputs_hidden": false
    }
   },
   "outputs": [
    {
     "name": "stdout",
     "output_type": "stream",
     "text": [
      "Positive number\n"
     ]
    }
   ],
   "source": [
    "# if-elif-else\n",
    "if int_num > 0:\n",
    "    print(\"Positive number\")\n",
    "elif int_num < 0:\n",
    "    print(\"Negative number\")\n",
    "else:\n",
    "    print(\"Zero\")"
   ]
  },
  {
   "cell_type": "code",
   "execution_count": 8,
   "metadata": {
    "ExecuteTime": {
     "end_time": "2024-04-05T04:10:50.266586Z",
     "start_time": "2024-04-05T04:10:50.250186Z"
    },
    "collapsed": false,
    "jupyter": {
     "outputs_hidden": false
    }
   },
   "outputs": [
    {
     "name": "stdout",
     "output_type": "stream",
     "text": [
      "1\n",
      "2\n",
      "3\n",
      "4\n",
      "5\n"
     ]
    }
   ],
   "source": [
    "# for 循环\n",
    "for item in my_list:\n",
    "    print(item)"
   ]
  },
  {
   "cell_type": "code",
   "execution_count": 9,
   "metadata": {
    "ExecuteTime": {
     "end_time": "2024-04-05T04:10:57.277815Z",
     "start_time": "2024-04-05T04:10:57.252476Z"
    },
    "collapsed": false,
    "jupyter": {
     "outputs_hidden": false
    }
   },
   "outputs": [
    {
     "name": "stdout",
     "output_type": "stream",
     "text": [
      "0\n",
      "1\n",
      "2\n",
      "3\n",
      "4\n"
     ]
    }
   ],
   "source": [
    "# while 循环\n",
    "count = 0\n",
    "while count < 5:\n",
    "    print(count)\n",
    "    count += 1"
   ]
  },
  {
   "cell_type": "markdown",
   "metadata": {
    "collapsed": false,
    "jupyter": {
     "outputs_hidden": false
    }
   },
   "source": [
    "# 3. 函数"
   ]
  },
  {
   "cell_type": "code",
   "execution_count": 10,
   "metadata": {
    "ExecuteTime": {
     "end_time": "2024-04-05T04:12:40.793612Z",
     "start_time": "2024-04-05T04:12:40.763266Z"
    },
    "collapsed": false,
    "jupyter": {
     "outputs_hidden": false
    }
   },
   "outputs": [
    {
     "name": "stdout",
     "output_type": "stream",
     "text": [
      "Hello, Alice!\n"
     ]
    }
   ],
   "source": [
    "def greet(name):\n",
    "    \"\"\"\n",
    "    Prints a greeting message with the given name.\n",
    "    \"\"\"\n",
    "    print(f\"Hello, {name}!\")\n",
    "\n",
    "greet(\"Alice\")"
   ]
  },
  {
   "cell_type": "markdown",
   "metadata": {
    "collapsed": false,
    "jupyter": {
     "outputs_hidden": false
    }
   },
   "source": [
    "# 4. 模块导入"
   ]
  },
  {
   "cell_type": "code",
   "execution_count": 11,
   "metadata": {
    "ExecuteTime": {
     "end_time": "2024-04-05T04:13:32.000389Z",
     "start_time": "2024-04-05T04:13:31.993456Z"
    },
    "collapsed": false,
    "jupyter": {
     "outputs_hidden": false
    }
   },
   "outputs": [
    {
     "name": "stdout",
     "output_type": "stream",
     "text": [
      "3.141592653589793\n",
      "6\n"
     ]
    }
   ],
   "source": [
    "# 使用python内置模块\n",
    "\n",
    "import math\n",
    "print(math.pi)\n",
    "\n",
    "from random import randint\n",
    "print(randint(1, 10))"
   ]
  },
  {
   "cell_type": "code",
   "execution_count": 13,
   "metadata": {
    "ExecuteTime": {
     "end_time": "2024-04-05T04:18:14.298748Z",
     "start_time": "2024-04-05T04:18:10.931660Z"
    },
    "collapsed": false,
    "jupyter": {
     "outputs_hidden": false
    }
   },
   "outputs": [
    {
     "name": "stdout",
     "output_type": "stream",
     "text": [
      "Collecting requests\r\n",
      "  Obtaining dependency information for requests from https://files.pythonhosted.org/packages/70/8e/0e2d847013cb52cd35b38c009bb167a1a26b2ce6cd6965bf26b47bc0bf44/requests-2.31.0-py3-none-any.whl.metadata\r\n",
      "  Using cached requests-2.31.0-py3-none-any.whl.metadata (4.6 kB)\r\n",
      "Requirement already satisfied: charset-normalizer<4,>=2 in /Users/yunchen/miniconda3/envs/playground/lib/python3.10/site-packages (from requests) (2.0.4)\r\n",
      "Requirement already satisfied: idna<4,>=2.5 in /Users/yunchen/miniconda3/envs/playground/lib/python3.10/site-packages (from requests) (3.4)\r\n",
      "Requirement already satisfied: urllib3<3,>=1.21.1 in /Users/yunchen/miniconda3/envs/playground/lib/python3.10/site-packages (from requests) (2.1.0)\r\n",
      "Requirement already satisfied: certifi>=2017.4.17 in /Users/yunchen/miniconda3/envs/playground/lib/python3.10/site-packages (from requests) (2024.2.2)\r\n",
      "Using cached requests-2.31.0-py3-none-any.whl (62 kB)\r\n",
      "Installing collected packages: requests\r\n",
      "Successfully installed requests-2.31.0\r\n"
     ]
    }
   ],
   "source": [
    "# 使用自定义模块\n",
    "!pip install requests"
   ]
  },
  {
   "cell_type": "code",
   "execution_count": 15,
   "metadata": {
    "ExecuteTime": {
     "end_time": "2024-04-05T04:19:56.440342Z",
     "start_time": "2024-04-05T04:19:56.215812Z"
    },
    "collapsed": false,
    "jupyter": {
     "outputs_hidden": false
    }
   },
   "outputs": [
    {
     "name": "stdout",
     "output_type": "stream",
     "text": [
      "<!DOCTYPE html>\r\n",
      "<!--STATUS OK--><html> <head><meta http-equiv=content-type content=text/html;charset=utf-8><meta http-equiv=X-UA-Compatible content=IE=Edge><meta content=always name=referrer><link rel=stylesheet type=text/css href=https://ss1.bdstatic.com/5eN1bjq8AAUYm2zgoY3K/r/www/cache/bdorz/baidu.min.css><title>百度一下，你就知道</title></head> <body link=#0000cc> <div id=wrapper> <div id=head> <div class=head_wrapper> <div class=s_form> <div class=s_form_wrapper> <div id=lg> <img hidefocus=true src=//www.baidu.com/img/bd_logo1.png width=270 height=129> </div> <form id=form name=f action=//www.baidu.com/s class=fm> <input type=hidden name=bdorz_come value=1> <input type=hidden name=ie value=utf-8> <input type=hidden name=f value=8> <input type=hidden name=rsv_bp value=1> <input type=hidden name=rsv_idx value=1> <input type=hidden name=tn value=baidu><span class=\"bg s_ipt_wr\"><input id=kw name=wd class=s_ipt value maxlength=255 autocomplete=off autofocus=autofocus></span><span class=\"bg s_btn_wr\"><input type=submit id=su value=百度一下 class=\"bg s_btn\" autofocus></span> </form> </div> </div> <div id=u1> <a href=http://news.baidu.com name=tj_trnews class=mnav>新闻</a> <a href=https://www.hao123.com name=tj_trhao123 class=mnav>hao123</a> <a href=http://map.baidu.com name=tj_trmap class=mnav>地图</a> <a href=http://v.baidu.com name=tj_trvideo class=mnav>视频</a> <a href=http://tieba.baidu.com name=tj_trtieba class=mnav>贴吧</a> <noscript> <a href=http://www.baidu.com/bdorz/login.gif?login&amp;tpl=mn&amp;u=http%3A%2F%2Fwww.baidu.com%2f%3fbdorz_come%3d1 name=tj_login class=lb>登录</a> </noscript> <script>document.write('<a href=\"http://www.baidu.com/bdorz/login.gif?login&tpl=mn&u='+ encodeURIComponent(window.location.href+ (window.location.search === \"\" ? \"?\" : \"&\")+ \"bdorz_come=1\")+ '\" name=\"tj_login\" class=\"lb\">登录</a>');\r\n",
      "                </script> <a href=//www.baidu.com/more/ name=tj_briicon class=bri style=\"display: block;\">更多产品</a> </div> </div> </div> <div id=ftCon> <div id=ftConw> <p id=lh> <a href=http://home.baidu.com>关于百度</a> <a href=http://ir.baidu.com>About Baidu</a> </p> <p id=cp>&copy;2017&nbsp;Baidu&nbsp;<a href=http://www.baidu.com/duty/>使用百度前必读</a>&nbsp; <a href=http://jianyi.baidu.com/ class=cp-feedback>意见反馈</a>&nbsp;京ICP证030173号&nbsp; <img src=//www.baidu.com/img/gs.gif> </p> </div> </div> </div> </body> </html>\r\n",
      "\n"
     ]
    }
   ],
   "source": [
    "# 使用第三方模块\n",
    "import requests\n",
    "\n",
    "# 请求百度首页并渲染出来\n",
    "response = requests.get(\"https://www.baidu.com\")\n",
    "print(response.content.decode(\"utf-8\"))"
   ]
  },
  {
   "cell_type": "markdown",
   "metadata": {
    "collapsed": false,
    "jupyter": {
     "outputs_hidden": false
    }
   },
   "source": [
    "# 5. 异常处理"
   ]
  },
  {
   "cell_type": "code",
   "execution_count": 16,
   "metadata": {
    "ExecuteTime": {
     "end_time": "2024-04-05T04:23:08.243301Z",
     "start_time": "2024-04-05T04:23:08.201104Z"
    },
    "collapsed": false,
    "jupyter": {
     "outputs_hidden": false
    }
   },
   "outputs": [
    {
     "name": "stdout",
     "output_type": "stream",
     "text": [
      "Error: Division by zero\n"
     ]
    }
   ],
   "source": [
    "try:\n",
    "    # 试图执行一个除以零的操作\n",
    "    result = 10 / 0\n",
    "except ZeroDivisionError:\n",
    "    print(\"Error: Division by zero\")"
   ]
  },
  {
   "cell_type": "markdown",
   "metadata": {
    "collapsed": false,
    "jupyter": {
     "outputs_hidden": false
    }
   },
   "source": [
    "# 6. 文件操作"
   ]
  },
  {
   "cell_type": "code",
   "execution_count": 17,
   "metadata": {
    "ExecuteTime": {
     "end_time": "2024-04-05T04:24:46.776408Z",
     "start_time": "2024-04-05T04:24:46.718156Z"
    },
    "collapsed": false,
    "jupyter": {
     "outputs_hidden": false
    }
   },
   "outputs": [
    {
     "name": "stdout",
     "output_type": "stream",
     "text": [
      "写入成功\n"
     ]
    }
   ],
   "source": [
    "# 写入文件\n",
    "with open(\"data/example.txt\", \"w\") as file:\n",
    "    file.write(\"啦啦啦啦啦啦啦啦啦啦啦\")\n",
    "    print(\"写入成功\")"
   ]
  },
  {
   "cell_type": "code",
   "execution_count": 18,
   "metadata": {
    "ExecuteTime": {
     "end_time": "2024-04-05T04:25:14.845507Z",
     "start_time": "2024-04-05T04:25:14.811206Z"
    },
    "collapsed": false,
    "jupyter": {
     "outputs_hidden": false
    }
   },
   "outputs": [
    {
     "name": "stdout",
     "output_type": "stream",
     "text": [
      "啦啦啦啦啦啦啦啦啦啦啦\n"
     ]
    }
   ],
   "source": [
    "# 读取文件\n",
    "with open(\"data/example.txt\", \"r\") as file:\n",
    "    content = file.read()\n",
    "    print(content)"
   ]
  },
  {
   "cell_type": "code",
   "execution_count": 19,
   "metadata": {
    "ExecuteTime": {
     "end_time": "2024-04-05T04:25:44.066931Z",
     "start_time": "2024-04-05T04:25:44.059514Z"
    },
    "collapsed": false,
    "jupyter": {
     "outputs_hidden": false
    }
   },
   "outputs": [
    {
     "name": "stdout",
     "output_type": "stream",
     "text": [
      "删除成功\n"
     ]
    }
   ],
   "source": [
    "# 删除文件\n",
    "import os\n",
    "\n",
    "os.remove(\"data/example.txt\")\n",
    "print(\"删除成功\")"
   ]
  },
  {
   "cell_type": "markdown",
   "metadata": {
    "collapsed": false,
    "jupyter": {
     "outputs_hidden": false
    }
   },
   "source": [
    "# 7. 面向对象编程"
   ]
  },
  {
   "cell_type": "markdown",
   "metadata": {
    "collapsed": false,
    "jupyter": {
     "outputs_hidden": false
    }
   },
   "source": [
    "写代码实际上是对现实世界进行建模，而现实世界中的事物往往是由多个属性和方法组成的。面向对象编程就是一种编程范式，它允许我们将现实世界中的事物抽象成一个个对象，然后通过对象之间的交互来模拟现实世界的场景。\n",
    "\n",
    "面向对象编程就像是你在玩一个角色扮演游戏,每个\"角色\"都有自己的特点和能力。\n",
    "我们把这些\"角色\"称为类(Class),每个类都有自己的属性(Attributes)和方法(Methods)。\n",
    "属性就像是这个角色的个人信息,比如名字、年龄等;方法则是角色可以做的事情,比如说话、走路、打架等。"
   ]
  },
  {
   "cell_type": "code",
   "execution_count": 20,
   "metadata": {
    "ExecuteTime": {
     "end_time": "2024-04-05T04:30:56.446733Z",
     "start_time": "2024-04-05T04:30:56.419054Z"
    },
    "collapsed": false,
    "jupyter": {
     "outputs_hidden": false
    }
   },
   "outputs": [
    {
     "name": "stdout",
     "output_type": "stream",
     "text": [
      "Hi, my name is Alice and I'm 25 years old.\n"
     ]
    }
   ],
   "source": [
    "class Person:\n",
    "    def __init__(self, name, age):\n",
    "        self.name = name\n",
    "        self.age = age\n",
    "\n",
    "    def introduce(self):\n",
    "        print(f\"Hi, my name is {self.name} and I'm {self.age} years old.\")\n",
    "\n",
    "person = Person(\"Alice\", 25)\n",
    "person.introduce()"
   ]
  }
 ],
 "metadata": {
  "kernelspec": {
   "display_name": "Python 3 (ipykernel)",
   "language": "python",
   "name": "python3"
  },
  "language_info": {
   "codemirror_mode": {
    "name": "ipython",
    "version": 3
   },
   "file_extension": ".py",
   "mimetype": "text/x-python",
   "name": "python",
   "nbconvert_exporter": "python",
   "pygments_lexer": "ipython3",
   "version": "3.10.13"
  }
 },
 "nbformat": 4,
 "nbformat_minor": 4
}
